{
 "cells": [
  {
   "cell_type": "markdown",
   "id": "27db78e4",
   "metadata": {},
   "source": [
    "# Data Science Tools and Ecosystem"
   ]
  },
  {
   "cell_type": "markdown",
   "id": "7a43523e",
   "metadata": {},
   "source": [
    "In this notebook, Data Science Tools and Ecosystem are summarized."
   ]
  },
  {
   "cell_type": "markdown",
   "id": "fe525623",
   "metadata": {},
   "source": [
    "Some of the popular languages that Data Scientists use are:\n",
    "1. Python\n",
    "2. R\n",
    "3. Scala\n",
    "4. SQL\n",
    "5. Java\n",
    "6. JavaScript\n",
    "7. Visual Basic\n",
    "8. C++\n",
    "9. JUlia\n",
    "10. Php"
   ]
  },
  {
   "cell_type": "markdown",
   "id": "b874812c",
   "metadata": {},
   "source": [
    "Some of the commonly used libraries used by Data Scientists include:\n",
    "1. Pandas\n",
    "2. Numpy\n",
    "3. Matplotlib\n",
    "4. Seaborn\n",
    "5. Keras\n",
    "6. PyTorch\n",
    "7. Big DL\n",
    "8. Tensorflow\n",
    "9. Vegas\n",
    "10. Apache Spark"
   ]
  },
  {
   "cell_type": "markdown",
   "id": "8a41b856",
   "metadata": {},
   "source": [
    "|Data Science Tools|\n",
    "|-----|\n",
    "|Jupyter Notebooks|\n",
    "|Anaconda|\n",
    "|R Studio|\n",
    "|Spyder|"
   ]
  },
  {
   "cell_type": "markdown",
   "id": "cb58b027",
   "metadata": {},
   "source": [
    "### Below are a few examples of evaluating arithmetic expression in python."
   ]
  },
  {
   "cell_type": "code",
   "execution_count": 1,
   "id": "882189c6",
   "metadata": {},
   "outputs": [
    {
     "data": {
      "text/plain": [
       "17"
      ]
     },
     "execution_count": 1,
     "metadata": {},
     "output_type": "execute_result"
    }
   ],
   "source": [
    "#This is simple arithmetic expression to multiply then add integers.\n",
    "(3*4)+5"
   ]
  },
  {
   "cell_type": "code",
   "execution_count": 2,
   "id": "b68d3373",
   "metadata": {},
   "outputs": [
    {
     "data": {
      "text/plain": [
       "3.3333333333333335"
      ]
     },
     "execution_count": 2,
     "metadata": {},
     "output_type": "execute_result"
    }
   ],
   "source": [
    "#This will convert 200 mintes to hours by diving by 60.\n",
    "200/60"
   ]
  },
  {
   "cell_type": "markdown",
   "id": "7a4cfa50",
   "metadata": {},
   "source": [
    "__Objectives:__\n",
    "* Create markdown cells.\n",
    "* Add comments to code cells.\n",
    "* Add ordered and unordered lists to markdown cells.\n",
    "* Lists popular languages for Data Science.\n",
    "* Lists popular libraries for Data Science."
   ]
  },
  {
   "cell_type": "markdown",
   "id": "83ef6ce6",
   "metadata": {},
   "source": [
    "## Author(s)\n",
    "Lakshmi Holla\n",
    "\n",
    "Niveditha Pandith"
   ]
  }
 ],
 "metadata": {
  "kernelspec": {
   "display_name": "Python 3 (ipykernel)",
   "language": "python",
   "name": "python3"
  },
  "language_info": {
   "codemirror_mode": {
    "name": "ipython",
    "version": 3
   },
   "file_extension": ".py",
   "mimetype": "text/x-python",
   "name": "python",
   "nbconvert_exporter": "python",
   "pygments_lexer": "ipython3",
   "version": "3.9.12"
  }
 },
 "nbformat": 4,
 "nbformat_minor": 5
}
